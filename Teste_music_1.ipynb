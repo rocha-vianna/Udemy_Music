{
 "cells": [
  {
   "cell_type": "markdown",
   "id": "f580f0bc",
   "metadata": {},
   "source": [
    "Importando bibliotecas e pacotes - Importing libraries and packages "
   ]
  },
  {
   "cell_type": "code",
   "execution_count": 85,
   "id": "c7c91f87",
   "metadata": {},
   "outputs": [],
   "source": [
    "import matplotlib.pyplot as plt\n",
    "import numpy as np\n",
    "import pandas as pd\n",
    "import seaborn as sn"
   ]
  },
  {
   "cell_type": "markdown",
   "id": "23af1672",
   "metadata": {},
   "source": [
    "Importando arquivo e lendo as 5 primeiras linhas"
   ]
  },
  {
   "cell_type": "code",
   "execution_count": 86,
   "id": "0e47a85f",
   "metadata": {},
   "outputs": [
    {
     "data": {
      "text/html": [
       "<div>\n",
       "<style scoped>\n",
       "    .dataframe tbody tr th:only-of-type {\n",
       "        vertical-align: middle;\n",
       "    }\n",
       "\n",
       "    .dataframe tbody tr th {\n",
       "        vertical-align: top;\n",
       "    }\n",
       "\n",
       "    .dataframe thead th {\n",
       "        text-align: right;\n",
       "    }\n",
       "</style>\n",
       "<table border=\"1\" class=\"dataframe\">\n",
       "  <thead>\n",
       "    <tr style=\"text-align: right;\">\n",
       "      <th></th>\n",
       "      <th>course_id</th>\n",
       "      <th>course_title</th>\n",
       "      <th>url</th>\n",
       "      <th>price</th>\n",
       "      <th>num_subscribers</th>\n",
       "      <th>num_reviews</th>\n",
       "      <th>num_lectures</th>\n",
       "      <th>level</th>\n",
       "      <th>Rating</th>\n",
       "      <th>content_duration</th>\n",
       "      <th>published_timestamp</th>\n",
       "      <th>subject</th>\n",
       "    </tr>\n",
       "  </thead>\n",
       "  <tbody>\n",
       "    <tr>\n",
       "      <th>0</th>\n",
       "      <td>19421</td>\n",
       "      <td>Free Beginner Electric Guitar Lessons</td>\n",
       "      <td>https://www.udemy.com/beginner-electric-guitar...</td>\n",
       "      <td>0</td>\n",
       "      <td>101154</td>\n",
       "      <td>1042</td>\n",
       "      <td>95</td>\n",
       "      <td>All Levels</td>\n",
       "      <td>0.88</td>\n",
       "      <td>4.5</td>\n",
       "      <td>2012-06-15T17:00:33Z</td>\n",
       "      <td>Musical Instruments</td>\n",
       "    </tr>\n",
       "    <tr>\n",
       "      <th>1</th>\n",
       "      <td>238934</td>\n",
       "      <td>Pianoforall - Incredible New Way To Learn Pian...</td>\n",
       "      <td>https://www.udemy.com/pianoforall-incredible-n...</td>\n",
       "      <td>200</td>\n",
       "      <td>75499</td>\n",
       "      <td>7676</td>\n",
       "      <td>362</td>\n",
       "      <td>Beginner Level</td>\n",
       "      <td>0.96</td>\n",
       "      <td>30.0</td>\n",
       "      <td>2014-08-07T06:27:51Z</td>\n",
       "      <td>Musical Instruments</td>\n",
       "    </tr>\n",
       "    <tr>\n",
       "      <th>2</th>\n",
       "      <td>41884</td>\n",
       "      <td>Getting Started with Playing Guitar</td>\n",
       "      <td>https://www.udemy.com/getting-started-with-pla...</td>\n",
       "      <td>0</td>\n",
       "      <td>47652</td>\n",
       "      <td>1141</td>\n",
       "      <td>26</td>\n",
       "      <td>All Levels</td>\n",
       "      <td>0.68</td>\n",
       "      <td>4.0</td>\n",
       "      <td>2013-05-29T15:28:07Z</td>\n",
       "      <td>Musical Instruments</td>\n",
       "    </tr>\n",
       "    <tr>\n",
       "      <th>3</th>\n",
       "      <td>42271</td>\n",
       "      <td>Complete Guitar System - Beginner to Advanced</td>\n",
       "      <td>https://www.udemy.com/complete-guitar-system-b...</td>\n",
       "      <td>145</td>\n",
       "      <td>32935</td>\n",
       "      <td>2713</td>\n",
       "      <td>310</td>\n",
       "      <td>All Levels</td>\n",
       "      <td>0.65</td>\n",
       "      <td>34.0</td>\n",
       "      <td>2013-05-29T15:24:47Z</td>\n",
       "      <td>Musical Instruments</td>\n",
       "    </tr>\n",
       "    <tr>\n",
       "      <th>4</th>\n",
       "      <td>26956</td>\n",
       "      <td>Learn Guitar in 21 Days</td>\n",
       "      <td>https://www.udemy.com/learn-guitar-in-21-days/</td>\n",
       "      <td>20</td>\n",
       "      <td>26504</td>\n",
       "      <td>192</td>\n",
       "      <td>82</td>\n",
       "      <td>All Levels</td>\n",
       "      <td>0.41</td>\n",
       "      <td>2.5</td>\n",
       "      <td>2012-10-21T20:36:50Z</td>\n",
       "      <td>Musical Instruments</td>\n",
       "    </tr>\n",
       "  </tbody>\n",
       "</table>\n",
       "</div>"
      ],
      "text/plain": [
       "   course_id                                       course_title  \\\n",
       "0      19421              Free Beginner Electric Guitar Lessons   \n",
       "1     238934  Pianoforall - Incredible New Way To Learn Pian...   \n",
       "2      41884                Getting Started with Playing Guitar   \n",
       "3      42271      Complete Guitar System - Beginner to Advanced   \n",
       "4      26956                            Learn Guitar in 21 Days   \n",
       "\n",
       "                                                 url  price  num_subscribers  \\\n",
       "0  https://www.udemy.com/beginner-electric-guitar...      0           101154   \n",
       "1  https://www.udemy.com/pianoforall-incredible-n...    200            75499   \n",
       "2  https://www.udemy.com/getting-started-with-pla...      0            47652   \n",
       "3  https://www.udemy.com/complete-guitar-system-b...    145            32935   \n",
       "4     https://www.udemy.com/learn-guitar-in-21-days/     20            26504   \n",
       "\n",
       "   num_reviews  num_lectures           level  Rating  content_duration  \\\n",
       "0         1042            95      All Levels    0.88               4.5   \n",
       "1         7676           362  Beginner Level    0.96              30.0   \n",
       "2         1141            26      All Levels    0.68               4.0   \n",
       "3         2713           310      All Levels    0.65              34.0   \n",
       "4          192            82      All Levels    0.41               2.5   \n",
       "\n",
       "    published_timestamp              subject  \n",
       "0  2012-06-15T17:00:33Z  Musical Instruments  \n",
       "1  2014-08-07T06:27:51Z  Musical Instruments  \n",
       "2  2013-05-29T15:28:07Z  Musical Instruments  \n",
       "3  2013-05-29T15:24:47Z  Musical Instruments  \n",
       "4  2012-10-21T20:36:50Z  Musical Instruments  "
      ]
     },
     "execution_count": 86,
     "metadata": {},
     "output_type": "execute_result"
    }
   ],
   "source": [
    "filename = 'data-sheet-udemy-courses-music-courses.csv'\n",
    "data = pd.read_csv(filename)\n",
    "data.head()"
   ]
  },
  {
   "cell_type": "markdown",
   "id": "787f71f2",
   "metadata": {},
   "source": [
    "Mostrando as colunas do arquivo"
   ]
  },
  {
   "cell_type": "code",
   "execution_count": 87,
   "id": "f7fb7d9d",
   "metadata": {},
   "outputs": [
    {
     "name": "stdout",
     "output_type": "stream",
     "text": [
      "Index(['course_id', 'course_title', 'url', 'price', 'num_subscribers',\n",
      "       'num_reviews', 'num_lectures', 'level', 'Rating', 'content_duration',\n",
      "       'published_timestamp', 'subject'],\n",
      "      dtype='object')\n"
     ]
    }
   ],
   "source": [
    "print(data.columns)"
   ]
  },
  {
   "cell_type": "markdown",
   "id": "1903a51a",
   "metadata": {},
   "source": [
    "Vendo se há valores nulos nas colunas"
   ]
  },
  {
   "cell_type": "code",
   "execution_count": 88,
   "id": "c9440649",
   "metadata": {},
   "outputs": [
    {
     "name": "stdout",
     "output_type": "stream",
     "text": [
      "course_id              0\n",
      "course_title           0\n",
      "url                    0\n",
      "price                  0\n",
      "num_subscribers        0\n",
      "num_reviews            0\n",
      "num_lectures           0\n",
      "level                  0\n",
      "Rating                 0\n",
      "content_duration       0\n",
      "published_timestamp    0\n",
      "subject                0\n",
      "dtype: int64\n"
     ]
    }
   ],
   "source": [
    "print(data.isna().sum())"
   ]
  },
  {
   "cell_type": "markdown",
   "id": "4b51a579",
   "metadata": {},
   "source": [
    "Mostrando as informações do arquivo"
   ]
  },
  {
   "cell_type": "code",
   "execution_count": 89,
   "id": "4d68c312",
   "metadata": {},
   "outputs": [
    {
     "name": "stdout",
     "output_type": "stream",
     "text": [
      "<class 'pandas.core.frame.DataFrame'>\n",
      "RangeIndex: 680 entries, 0 to 679\n",
      "Data columns (total 12 columns):\n",
      " #   Column               Non-Null Count  Dtype  \n",
      "---  ------               --------------  -----  \n",
      " 0   course_id            680 non-null    int64  \n",
      " 1   course_title         680 non-null    object \n",
      " 2   url                  680 non-null    object \n",
      " 3   price                680 non-null    int64  \n",
      " 4   num_subscribers      680 non-null    int64  \n",
      " 5   num_reviews          680 non-null    int64  \n",
      " 6   num_lectures         680 non-null    int64  \n",
      " 7   level                680 non-null    object \n",
      " 8   Rating               680 non-null    float64\n",
      " 9   content_duration     680 non-null    float64\n",
      " 10  published_timestamp  680 non-null    object \n",
      " 11  subject              680 non-null    object \n",
      "dtypes: float64(2), int64(5), object(5)\n",
      "memory usage: 63.9+ KB\n",
      "None\n"
     ]
    }
   ],
   "source": [
    "print(data.info())"
   ]
  },
  {
   "cell_type": "markdown",
   "id": "e2b5a120",
   "metadata": {},
   "source": [
    "Contando os valores únicos de cada coluna (são 680 registros)"
   ]
  },
  {
   "cell_type": "code",
   "execution_count": 90,
   "id": "b4718f8f",
   "metadata": {},
   "outputs": [
    {
     "name": "stdout",
     "output_type": "stream",
     "text": [
      "680\n"
     ]
    }
   ],
   "source": [
    "print(data.course_id.value_counts().sum())"
   ]
  },
  {
   "cell_type": "code",
   "execution_count": 91,
   "id": "722f9e02",
   "metadata": {},
   "outputs": [
    {
     "name": "stdout",
     "output_type": "stream",
     "text": [
      "680\n"
     ]
    }
   ],
   "source": [
    "print(data.course_title.value_counts().sum())"
   ]
  },
  {
   "cell_type": "code",
   "execution_count": 92,
   "id": "a30d08d2",
   "metadata": {},
   "outputs": [
    {
     "name": "stdout",
     "output_type": "stream",
     "text": [
      "680\n"
     ]
    }
   ],
   "source": [
    "print(data.url.value_counts().sum())"
   ]
  },
  {
   "cell_type": "code",
   "execution_count": 93,
   "id": "674fa5db",
   "metadata": {},
   "outputs": [
    {
     "name": "stdout",
     "output_type": "stream",
     "text": [
      "680\n"
     ]
    }
   ],
   "source": [
    "print(data.price.value_counts().sum())"
   ]
  },
  {
   "cell_type": "code",
   "execution_count": 94,
   "id": "b58e181d",
   "metadata": {},
   "outputs": [
    {
     "name": "stdout",
     "output_type": "stream",
     "text": [
      "680\n"
     ]
    }
   ],
   "source": [
    "print(data.num_subscribers.value_counts().sum())"
   ]
  },
  {
   "cell_type": "code",
   "execution_count": 95,
   "id": "4fb1fe20",
   "metadata": {},
   "outputs": [
    {
     "name": "stdout",
     "output_type": "stream",
     "text": [
      "680\n"
     ]
    }
   ],
   "source": [
    "print(data.num_reviews.value_counts().sum())"
   ]
  },
  {
   "cell_type": "code",
   "execution_count": 96,
   "id": "ca93b3f8",
   "metadata": {},
   "outputs": [
    {
     "name": "stdout",
     "output_type": "stream",
     "text": [
      "680\n"
     ]
    }
   ],
   "source": [
    "print(data.num_lectures.value_counts().sum())"
   ]
  },
  {
   "cell_type": "code",
   "execution_count": 97,
   "id": "1d2b922b",
   "metadata": {},
   "outputs": [
    {
     "name": "stdout",
     "output_type": "stream",
     "text": [
      "680\n"
     ]
    }
   ],
   "source": [
    "print(data.level.value_counts().sum())"
   ]
  },
  {
   "cell_type": "code",
   "execution_count": 98,
   "id": "a6c9c52c",
   "metadata": {},
   "outputs": [
    {
     "name": "stdout",
     "output_type": "stream",
     "text": [
      "680\n"
     ]
    }
   ],
   "source": [
    "print(data.Rating.value_counts().sum())"
   ]
  },
  {
   "cell_type": "code",
   "execution_count": 99,
   "id": "2c437678",
   "metadata": {},
   "outputs": [
    {
     "name": "stdout",
     "output_type": "stream",
     "text": [
      "680\n"
     ]
    }
   ],
   "source": [
    "print(data.content_duration.value_counts().sum())"
   ]
  },
  {
   "cell_type": "code",
   "execution_count": 100,
   "id": "d329b132",
   "metadata": {},
   "outputs": [
    {
     "name": "stdout",
     "output_type": "stream",
     "text": [
      "680\n"
     ]
    }
   ],
   "source": [
    "print(data.published_timestamp.value_counts().sum())"
   ]
  },
  {
   "cell_type": "code",
   "execution_count": 101,
   "id": "20a461b1",
   "metadata": {},
   "outputs": [
    {
     "name": "stdout",
     "output_type": "stream",
     "text": [
      "680\n"
     ]
    }
   ],
   "source": [
    "print(data.subject.value_counts().sum())"
   ]
  },
  {
   "cell_type": "code",
   "execution_count": 176,
   "id": "9c1c3e84",
   "metadata": {
    "scrolled": true
   },
   "outputs": [
    {
     "data": {
      "text/html": [
       "<div>\n",
       "<style scoped>\n",
       "    .dataframe tbody tr th:only-of-type {\n",
       "        vertical-align: middle;\n",
       "    }\n",
       "\n",
       "    .dataframe tbody tr th {\n",
       "        vertical-align: top;\n",
       "    }\n",
       "\n",
       "    .dataframe thead th {\n",
       "        text-align: right;\n",
       "    }\n",
       "</style>\n",
       "<table border=\"1\" class=\"dataframe\">\n",
       "  <thead>\n",
       "    <tr style=\"text-align: right;\">\n",
       "      <th></th>\n",
       "      <th>course_title</th>\n",
       "      <th>url</th>\n",
       "      <th>price</th>\n",
       "      <th>num_subscribers</th>\n",
       "      <th>num_reviews</th>\n",
       "      <th>num_lectures</th>\n",
       "      <th>level</th>\n",
       "      <th>Rating</th>\n",
       "      <th>content_duration</th>\n",
       "      <th>published_timestamp</th>\n",
       "      <th>subject</th>\n",
       "    </tr>\n",
       "    <tr>\n",
       "      <th>course_id</th>\n",
       "      <th></th>\n",
       "      <th></th>\n",
       "      <th></th>\n",
       "      <th></th>\n",
       "      <th></th>\n",
       "      <th></th>\n",
       "      <th></th>\n",
       "      <th></th>\n",
       "      <th></th>\n",
       "      <th></th>\n",
       "      <th></th>\n",
       "    </tr>\n",
       "  </thead>\n",
       "  <tbody>\n",
       "    <tr>\n",
       "      <th>19421</th>\n",
       "      <td>Free Beginner Electric Guitar Lessons</td>\n",
       "      <td>https://www.udemy.com/beginner-electric-guitar...</td>\n",
       "      <td>0</td>\n",
       "      <td>101154</td>\n",
       "      <td>1042</td>\n",
       "      <td>95</td>\n",
       "      <td>All Levels</td>\n",
       "      <td>0.88</td>\n",
       "      <td>4.500000</td>\n",
       "      <td>2012-06-15T17:00:33Z</td>\n",
       "      <td>Musical Instruments</td>\n",
       "    </tr>\n",
       "    <tr>\n",
       "      <th>238934</th>\n",
       "      <td>Pianoforall - Incredible New Way To Learn Pian...</td>\n",
       "      <td>https://www.udemy.com/pianoforall-incredible-n...</td>\n",
       "      <td>200</td>\n",
       "      <td>75499</td>\n",
       "      <td>7676</td>\n",
       "      <td>362</td>\n",
       "      <td>Beginner Level</td>\n",
       "      <td>0.96</td>\n",
       "      <td>30.000000</td>\n",
       "      <td>2014-08-07T06:27:51Z</td>\n",
       "      <td>Musical Instruments</td>\n",
       "    </tr>\n",
       "    <tr>\n",
       "      <th>41884</th>\n",
       "      <td>Getting Started with Playing Guitar</td>\n",
       "      <td>https://www.udemy.com/getting-started-with-pla...</td>\n",
       "      <td>0</td>\n",
       "      <td>47652</td>\n",
       "      <td>1141</td>\n",
       "      <td>26</td>\n",
       "      <td>All Levels</td>\n",
       "      <td>0.68</td>\n",
       "      <td>4.000000</td>\n",
       "      <td>2013-05-29T15:28:07Z</td>\n",
       "      <td>Musical Instruments</td>\n",
       "    </tr>\n",
       "    <tr>\n",
       "      <th>42271</th>\n",
       "      <td>Complete Guitar System - Beginner to Advanced</td>\n",
       "      <td>https://www.udemy.com/complete-guitar-system-b...</td>\n",
       "      <td>145</td>\n",
       "      <td>32935</td>\n",
       "      <td>2713</td>\n",
       "      <td>310</td>\n",
       "      <td>All Levels</td>\n",
       "      <td>0.65</td>\n",
       "      <td>34.000000</td>\n",
       "      <td>2013-05-29T15:24:47Z</td>\n",
       "      <td>Musical Instruments</td>\n",
       "    </tr>\n",
       "    <tr>\n",
       "      <th>26956</th>\n",
       "      <td>Learn Guitar in 21 Days</td>\n",
       "      <td>https://www.udemy.com/learn-guitar-in-21-days/</td>\n",
       "      <td>20</td>\n",
       "      <td>26504</td>\n",
       "      <td>192</td>\n",
       "      <td>82</td>\n",
       "      <td>All Levels</td>\n",
       "      <td>0.41</td>\n",
       "      <td>2.500000</td>\n",
       "      <td>2012-10-21T20:36:50Z</td>\n",
       "      <td>Musical Instruments</td>\n",
       "    </tr>\n",
       "    <tr>\n",
       "      <th>456284</th>\n",
       "      <td>The Professional Guitar Masterclass</td>\n",
       "      <td>https://www.udemy.com/the-professional-guitar-...</td>\n",
       "      <td>200</td>\n",
       "      <td>21701</td>\n",
       "      <td>1340</td>\n",
       "      <td>136</td>\n",
       "      <td>All Levels</td>\n",
       "      <td>0.30</td>\n",
       "      <td>9.500000</td>\n",
       "      <td>2015-04-28T17:27:26Z</td>\n",
       "      <td>Musical Instruments</td>\n",
       "    </tr>\n",
       "    <tr>\n",
       "      <th>583752</th>\n",
       "      <td>Introduction to Piano - By PGN Piano!</td>\n",
       "      <td>https://www.udemy.com/introductiontopiano/</td>\n",
       "      <td>0</td>\n",
       "      <td>14922</td>\n",
       "      <td>772</td>\n",
       "      <td>8</td>\n",
       "      <td>All Levels</td>\n",
       "      <td>0.30</td>\n",
       "      <td>0.666667</td>\n",
       "      <td>2015-08-16T20:38:49Z</td>\n",
       "      <td>Musical Instruments</td>\n",
       "    </tr>\n",
       "    <tr>\n",
       "      <th>59922</th>\n",
       "      <td>Best Beginner Guitar Lessons by Sam Lyons</td>\n",
       "      <td>https://www.udemy.com/best-beginner-guitar-les...</td>\n",
       "      <td>20</td>\n",
       "      <td>14560</td>\n",
       "      <td>20</td>\n",
       "      <td>32</td>\n",
       "      <td>All Levels</td>\n",
       "      <td>0.30</td>\n",
       "      <td>2.000000</td>\n",
       "      <td>2013-06-16T17:54:10Z</td>\n",
       "      <td>Musical Instruments</td>\n",
       "    </tr>\n",
       "    <tr>\n",
       "      <th>198690</th>\n",
       "      <td>Acoustic Guitar Basics</td>\n",
       "      <td>https://www.udemy.com/acoustic-guitar-basics/</td>\n",
       "      <td>0</td>\n",
       "      <td>14495</td>\n",
       "      <td>224</td>\n",
       "      <td>21</td>\n",
       "      <td>Beginner Level</td>\n",
       "      <td>0.47</td>\n",
       "      <td>2.000000</td>\n",
       "      <td>2014-08-07T20:32:27Z</td>\n",
       "      <td>Musical Instruments</td>\n",
       "    </tr>\n",
       "    <tr>\n",
       "      <th>484670</th>\n",
       "      <td>Guitar Super System Level 1</td>\n",
       "      <td>https://www.udemy.com/guitar-super-system-leve...</td>\n",
       "      <td>50</td>\n",
       "      <td>10869</td>\n",
       "      <td>2257</td>\n",
       "      <td>104</td>\n",
       "      <td>Intermediate Level</td>\n",
       "      <td>0.94</td>\n",
       "      <td>5.000000</td>\n",
       "      <td>2015-04-29T23:49:34Z</td>\n",
       "      <td>Musical Instruments</td>\n",
       "    </tr>\n",
       "    <tr>\n",
       "      <th>953152</th>\n",
       "      <td>The Complete Piano &amp; Music Theory Beginners Co...</td>\n",
       "      <td>https://www.udemy.com/piano-lessons-music-theo...</td>\n",
       "      <td>50</td>\n",
       "      <td>10435</td>\n",
       "      <td>665</td>\n",
       "      <td>23</td>\n",
       "      <td>Expert Level</td>\n",
       "      <td>0.12</td>\n",
       "      <td>1.500000</td>\n",
       "      <td>2016-09-15T22:49:21Z</td>\n",
       "      <td>Musical Instruments</td>\n",
       "    </tr>\n",
       "    <tr>\n",
       "      <th>1191750</th>\n",
       "      <td>Jazz Guitar Tips, Tricks and Licks</td>\n",
       "      <td>https://www.udemy.com/jazz-guitar-tips-tricks-...</td>\n",
       "      <td>0</td>\n",
       "      <td>9351</td>\n",
       "      <td>331</td>\n",
       "      <td>21</td>\n",
       "      <td>Intermediate Level</td>\n",
       "      <td>0.18</td>\n",
       "      <td>2.000000</td>\n",
       "      <td>2017-05-01T02:32:12Z</td>\n",
       "      <td>Musical Instruments</td>\n",
       "    </tr>\n",
       "    <tr>\n",
       "      <th>645202</th>\n",
       "      <td>The Total Beginner's Guitar Course</td>\n",
       "      <td>https://www.udemy.com/total-beginner-guitar-le...</td>\n",
       "      <td>0</td>\n",
       "      <td>9193</td>\n",
       "      <td>357</td>\n",
       "      <td>17</td>\n",
       "      <td>Intermediate Level</td>\n",
       "      <td>0.18</td>\n",
       "      <td>1.500000</td>\n",
       "      <td>2016-03-24T15:04:30Z</td>\n",
       "      <td>Musical Instruments</td>\n",
       "    </tr>\n",
       "    <tr>\n",
       "      <th>200598</th>\n",
       "      <td>LEARN HARMONICA, amaze your friends and have f...</td>\n",
       "      <td>https://www.udemy.com/benhewlettharmonicatuiti...</td>\n",
       "      <td>200</td>\n",
       "      <td>8857</td>\n",
       "      <td>718</td>\n",
       "      <td>131</td>\n",
       "      <td>Beginner Level</td>\n",
       "      <td>0.43</td>\n",
       "      <td>15.500000</td>\n",
       "      <td>2014-04-27T16:25:44Z</td>\n",
       "      <td>Musical Instruments</td>\n",
       "    </tr>\n",
       "    <tr>\n",
       "      <th>101496</th>\n",
       "      <td>How To Play Blues Guitar - Broonzy &amp; McGhee Bl...</td>\n",
       "      <td>https://www.udemy.com/swing-acoustic-blues-gui...</td>\n",
       "      <td>0</td>\n",
       "      <td>8240</td>\n",
       "      <td>31</td>\n",
       "      <td>6</td>\n",
       "      <td>All Levels</td>\n",
       "      <td>0.52</td>\n",
       "      <td>1.500000</td>\n",
       "      <td>2013-11-23T12:27:56Z</td>\n",
       "      <td>Musical Instruments</td>\n",
       "    </tr>\n",
       "    <tr>\n",
       "      <th>99324</th>\n",
       "      <td>Acoustic Blues Guitar Lessons</td>\n",
       "      <td>https://www.udemy.com/finger-picking-blues-gui...</td>\n",
       "      <td>0</td>\n",
       "      <td>8217</td>\n",
       "      <td>109</td>\n",
       "      <td>10</td>\n",
       "      <td>Beginner Level</td>\n",
       "      <td>0.30</td>\n",
       "      <td>1.000000</td>\n",
       "      <td>2013-09-30T20:45:20Z</td>\n",
       "      <td>Musical Instruments</td>\n",
       "    </tr>\n",
       "    <tr>\n",
       "      <th>1132342</th>\n",
       "      <td>Ultimate Beginner Guitar Masterclass</td>\n",
       "      <td>https://www.udemy.com/beginner-guitar-mastercl...</td>\n",
       "      <td>200</td>\n",
       "      <td>8113</td>\n",
       "      <td>79</td>\n",
       "      <td>124</td>\n",
       "      <td>All Levels</td>\n",
       "      <td>0.18</td>\n",
       "      <td>11.500000</td>\n",
       "      <td>2017-05-15T23:04:11Z</td>\n",
       "      <td>Musical Instruments</td>\n",
       "    </tr>\n",
       "    <tr>\n",
       "      <th>194692</th>\n",
       "      <td>Quicklessons Piano Course - Learn to Play Pian...</td>\n",
       "      <td>https://www.udemy.com/quicklessons/</td>\n",
       "      <td>200</td>\n",
       "      <td>7178</td>\n",
       "      <td>260</td>\n",
       "      <td>144</td>\n",
       "      <td>Intermediate Level</td>\n",
       "      <td>0.15</td>\n",
       "      <td>8.500000</td>\n",
       "      <td>2014-04-12T17:29:32Z</td>\n",
       "      <td>Musical Instruments</td>\n",
       "    </tr>\n",
       "    <tr>\n",
       "      <th>76524</th>\n",
       "      <td>A new approach to piano and playing songs for ...</td>\n",
       "      <td>https://www.udemy.com/contemporary-piano/</td>\n",
       "      <td>50</td>\n",
       "      <td>7140</td>\n",
       "      <td>72</td>\n",
       "      <td>26</td>\n",
       "      <td>All Levels</td>\n",
       "      <td>0.18</td>\n",
       "      <td>1.500000</td>\n",
       "      <td>2013-08-11T20:39:24Z</td>\n",
       "      <td>Musical Instruments</td>\n",
       "    </tr>\n",
       "    <tr>\n",
       "      <th>409818</th>\n",
       "      <td>Get started playing blues harmonica</td>\n",
       "      <td>https://www.udemy.com/get-started-playing-blue...</td>\n",
       "      <td>0</td>\n",
       "      <td>6853</td>\n",
       "      <td>398</td>\n",
       "      <td>23</td>\n",
       "      <td>Intermediate Level</td>\n",
       "      <td>0.99</td>\n",
       "      <td>0.616667</td>\n",
       "      <td>2015-03-30T22:01:08Z</td>\n",
       "      <td>Musical Instruments</td>\n",
       "    </tr>\n",
       "    <tr>\n",
       "      <th>517148</th>\n",
       "      <td>Acoustic Fingerstyle Guitar Course: Beginner t...</td>\n",
       "      <td>https://www.udemy.com/acoustic-fingerstyle-gui...</td>\n",
       "      <td>200</td>\n",
       "      <td>6565</td>\n",
       "      <td>55</td>\n",
       "      <td>56</td>\n",
       "      <td>All Levels</td>\n",
       "      <td>0.11</td>\n",
       "      <td>4.000000</td>\n",
       "      <td>2015-08-04T17:40:13Z</td>\n",
       "      <td>Musical Instruments</td>\n",
       "    </tr>\n",
       "    <tr>\n",
       "      <th>824044</th>\n",
       "      <td>PI-101 Top 10 Classical Piano Pieces for Begin...</td>\n",
       "      <td>https://www.udemy.com/pi-101-piano/</td>\n",
       "      <td>0</td>\n",
       "      <td>6292</td>\n",
       "      <td>183</td>\n",
       "      <td>38</td>\n",
       "      <td>Beginner Level</td>\n",
       "      <td>0.96</td>\n",
       "      <td>1.000000</td>\n",
       "      <td>2016-05-30T21:02:20Z</td>\n",
       "      <td>Musical Instruments</td>\n",
       "    </tr>\n",
       "    <tr>\n",
       "      <th>1052180</th>\n",
       "      <td>How to play 'Electric Guitar\",https://www.udem...</td>\n",
       "      <td>https://www.udemy.com/learnpianotoday/</td>\n",
       "      <td>100</td>\n",
       "      <td>6271</td>\n",
       "      <td>68</td>\n",
       "      <td>75</td>\n",
       "      <td>All Levels</td>\n",
       "      <td>0.14</td>\n",
       "      <td>5.000000</td>\n",
       "      <td>2013-06-27T21:55:17Z</td>\n",
       "      <td>Musical Instruments</td>\n",
       "    </tr>\n",
       "    <tr>\n",
       "      <th>65033</th>\n",
       "      <td>Virtual Piano Lessons - A New Way To Learn Piano</td>\n",
       "      <td>https://www.udemy.com/virtual-piano-lessons-a-...</td>\n",
       "      <td>50</td>\n",
       "      <td>5830</td>\n",
       "      <td>29</td>\n",
       "      <td>12</td>\n",
       "      <td>Beginner Level</td>\n",
       "      <td>0.14</td>\n",
       "      <td>1.000000</td>\n",
       "      <td>2013-07-21T23:31:31Z</td>\n",
       "      <td>Musical Instruments</td>\n",
       "    </tr>\n",
       "    <tr>\n",
       "      <th>315576</th>\n",
       "      <td>Guitar Crash Course (No Experience Necessary)</td>\n",
       "      <td>https://www.udemy.com/hub-guitar-crash-course/</td>\n",
       "      <td>0</td>\n",
       "      <td>5769</td>\n",
       "      <td>78</td>\n",
       "      <td>29</td>\n",
       "      <td>Intermediate Level</td>\n",
       "      <td>0.14</td>\n",
       "      <td>1.000000</td>\n",
       "      <td>2015-01-22T03:23:59Z</td>\n",
       "      <td>Musical Instruments</td>\n",
       "    </tr>\n",
       "    <tr>\n",
       "      <th>364716</th>\n",
       "      <td>Beginner Violin 101: Care, Maintenance, and th...</td>\n",
       "      <td>https://www.udemy.com/beginner-violin-101-care...</td>\n",
       "      <td>0</td>\n",
       "      <td>5543</td>\n",
       "      <td>107</td>\n",
       "      <td>29</td>\n",
       "      <td>Beginner Level</td>\n",
       "      <td>0.14</td>\n",
       "      <td>4.000000</td>\n",
       "      <td>2015-03-03T00:09:19Z</td>\n",
       "      <td>Musical Instruments</td>\n",
       "    </tr>\n",
       "    <tr>\n",
       "      <th>967380</th>\n",
       "      <td>How to play Piano - Go from a Beginner/Interme...</td>\n",
       "      <td>https://www.udemy.com/how-to-play-piano-go-fro...</td>\n",
       "      <td>200</td>\n",
       "      <td>5316</td>\n",
       "      <td>159</td>\n",
       "      <td>291</td>\n",
       "      <td>All Levels</td>\n",
       "      <td>0.14</td>\n",
       "      <td>31.000000</td>\n",
       "      <td>2016-10-16T18:25:57Z</td>\n",
       "      <td>Musical Instruments</td>\n",
       "    </tr>\n",
       "    <tr>\n",
       "      <th>1032864</th>\n",
       "      <td>Learn to Read &amp; Write Music to play Piano &amp; mo...</td>\n",
       "      <td>https://www.udemy.com/the-complete-guide-to-ho...</td>\n",
       "      <td>115</td>\n",
       "      <td>5292</td>\n",
       "      <td>38</td>\n",
       "      <td>85</td>\n",
       "      <td>Beginner Level</td>\n",
       "      <td>0.14</td>\n",
       "      <td>10.500000</td>\n",
       "      <td>2016-12-27T19:52:54Z</td>\n",
       "      <td>Musical Instruments</td>\n",
       "    </tr>\n",
       "    <tr>\n",
       "      <th>555340</th>\n",
       "      <td>Play Piano in 30 Days! - Start Playing NOW!</td>\n",
       "      <td>https://www.udemy.com/flyingstart/</td>\n",
       "      <td>0</td>\n",
       "      <td>5188</td>\n",
       "      <td>410</td>\n",
       "      <td>58</td>\n",
       "      <td>All Levels</td>\n",
       "      <td>0.14</td>\n",
       "      <td>3.000000</td>\n",
       "      <td>2015-07-26T18:08:47Z</td>\n",
       "      <td>Musical Instruments</td>\n",
       "    </tr>\n",
       "    <tr>\n",
       "      <th>574974</th>\n",
       "      <td>The Complete Piano Course - Master The Piano</td>\n",
       "      <td>https://www.udemy.com/the-complete-piano-course/</td>\n",
       "      <td>95</td>\n",
       "      <td>4982</td>\n",
       "      <td>276</td>\n",
       "      <td>240</td>\n",
       "      <td>All Levels</td>\n",
       "      <td>0.14</td>\n",
       "      <td>23.000000</td>\n",
       "      <td>2015-08-20T21:25:34Z</td>\n",
       "      <td>Musical Instruments</td>\n",
       "    </tr>\n",
       "    <tr>\n",
       "      <th>1105794</th>\n",
       "      <td>Piano Music Theory (Back To Basics) by JFilt</td>\n",
       "      <td>https://www.udemy.com/piano-music-theory-back-...</td>\n",
       "      <td>0</td>\n",
       "      <td>4967</td>\n",
       "      <td>308</td>\n",
       "      <td>12</td>\n",
       "      <td>Beginner Level</td>\n",
       "      <td>0.14</td>\n",
       "      <td>0.500000</td>\n",
       "      <td>2017-02-13T23:03:35Z</td>\n",
       "      <td>Musical Instruments</td>\n",
       "    </tr>\n",
       "    <tr>\n",
       "      <th>1229488</th>\n",
       "      <td>Learn to play your favorite guitar songs by ear</td>\n",
       "      <td>https://www.udemy.com/play-by-ear/</td>\n",
       "      <td>50</td>\n",
       "      <td>4733</td>\n",
       "      <td>11</td>\n",
       "      <td>15</td>\n",
       "      <td>Beginner Level</td>\n",
       "      <td>0.14</td>\n",
       "      <td>1.500000</td>\n",
       "      <td>2017-05-27T00:12:52Z</td>\n",
       "      <td>Musical Instruments</td>\n",
       "    </tr>\n",
       "    <tr>\n",
       "      <th>566678</th>\n",
       "      <td>Learn 4 Chords and Play Thousands of Songs!</td>\n",
       "      <td>https://www.udemy.com/learn-4-chords-and-play-...</td>\n",
       "      <td>20</td>\n",
       "      <td>4560</td>\n",
       "      <td>177</td>\n",
       "      <td>22</td>\n",
       "      <td>All Levels</td>\n",
       "      <td>0.14</td>\n",
       "      <td>1.500000</td>\n",
       "      <td>2015-08-17T19:01:04Z</td>\n",
       "      <td>Musical Instruments</td>\n",
       "    </tr>\n",
       "    <tr>\n",
       "      <th>501412</th>\n",
       "      <td>Play Piano by Ear Today! SuperCourse</td>\n",
       "      <td>https://www.udemy.com/play-piano-by-ear-today-...</td>\n",
       "      <td>60</td>\n",
       "      <td>4557</td>\n",
       "      <td>21</td>\n",
       "      <td>77</td>\n",
       "      <td>All Levels</td>\n",
       "      <td>0.14</td>\n",
       "      <td>5.500000</td>\n",
       "      <td>2016-01-05T22:39:04Z</td>\n",
       "      <td>Musical Instruments</td>\n",
       "    </tr>\n",
       "    <tr>\n",
       "      <th>696630</th>\n",
       "      <td>7 Ways A Beginner Guitarist Can Sound Better, ...</td>\n",
       "      <td>https://www.udemy.com/nationalguitaracademy/</td>\n",
       "      <td>0</td>\n",
       "      <td>4529</td>\n",
       "      <td>193</td>\n",
       "      <td>7</td>\n",
       "      <td>All Levels</td>\n",
       "      <td>0.14</td>\n",
       "      <td>0.600000</td>\n",
       "      <td>2015-12-21T18:50:50Z</td>\n",
       "      <td>Musical Instruments</td>\n",
       "    </tr>\n",
       "    <tr>\n",
       "      <th>286070</th>\n",
       "      <td>5 lecciones que todo guitarrista debe tomar</td>\n",
       "      <td>https://www.udemy.com/5-lecciones-que-todo-gui...</td>\n",
       "      <td>0</td>\n",
       "      <td>4452</td>\n",
       "      <td>263</td>\n",
       "      <td>14</td>\n",
       "      <td>All Levels</td>\n",
       "      <td>0.14</td>\n",
       "      <td>1.000000</td>\n",
       "      <td>2014-08-23T05:08:14Z</td>\n",
       "      <td>Musical Instruments</td>\n",
       "    </tr>\n",
       "    <tr>\n",
       "      <th>681692</th>\n",
       "      <td>Guitar Super System Level 2</td>\n",
       "      <td>https://www.udemy.com/guitarsupersystemlevel2/</td>\n",
       "      <td>50</td>\n",
       "      <td>4192</td>\n",
       "      <td>128</td>\n",
       "      <td>34</td>\n",
       "      <td>All Levels</td>\n",
       "      <td>0.14</td>\n",
       "      <td>1.500000</td>\n",
       "      <td>2015-11-30T21:49:37Z</td>\n",
       "      <td>Musical Instruments</td>\n",
       "    </tr>\n",
       "    <tr>\n",
       "      <th>206088</th>\n",
       "      <td>Guitar Chord Mastery!Turn Your Brain Into A Ch...</td>\n",
       "      <td>https://www.udemy.com/total-fretboard-mastery/</td>\n",
       "      <td>200</td>\n",
       "      <td>4133</td>\n",
       "      <td>173</td>\n",
       "      <td>224</td>\n",
       "      <td>All Levels</td>\n",
       "      <td>0.14</td>\n",
       "      <td>28.500000</td>\n",
       "      <td>2014-05-19T00:26:06Z</td>\n",
       "      <td>Musical Instruments</td>\n",
       "    </tr>\n",
       "    <tr>\n",
       "      <th>687248</th>\n",
       "      <td>3 step formula for playing guitar by ear</td>\n",
       "      <td>https://www.udemy.com/3-step-formula-for-playi...</td>\n",
       "      <td>25</td>\n",
       "      <td>3937</td>\n",
       "      <td>54</td>\n",
       "      <td>20</td>\n",
       "      <td>Beginner Level</td>\n",
       "      <td>0.14</td>\n",
       "      <td>1.500000</td>\n",
       "      <td>2015-12-03T21:26:09Z</td>\n",
       "      <td>Musical Instruments</td>\n",
       "    </tr>\n",
       "    <tr>\n",
       "      <th>955914</th>\n",
       "      <td>A beginner`s guide to fingerpicking and strumm...</td>\n",
       "      <td>https://www.udemy.com/guitar-domination-finger...</td>\n",
       "      <td>0</td>\n",
       "      <td>3481</td>\n",
       "      <td>29</td>\n",
       "      <td>20</td>\n",
       "      <td>All Levels</td>\n",
       "      <td>0.14</td>\n",
       "      <td>2.000000</td>\n",
       "      <td>2016-09-13T21:51:59Z</td>\n",
       "      <td>Musical Instruments</td>\n",
       "    </tr>\n",
       "    <tr>\n",
       "      <th>658276</th>\n",
       "      <td>Piano for Singer/Songwriters | Write Songs and...</td>\n",
       "      <td>https://www.udemy.com/pianoforsingersongwriters/</td>\n",
       "      <td>100</td>\n",
       "      <td>3371</td>\n",
       "      <td>175</td>\n",
       "      <td>42</td>\n",
       "      <td>Beginner Level</td>\n",
       "      <td>0.14</td>\n",
       "      <td>3.000000</td>\n",
       "      <td>2015-11-12T01:10:55Z</td>\n",
       "      <td>Musical Instruments</td>\n",
       "    </tr>\n",
       "    <tr>\n",
       "      <th>762374</th>\n",
       "      <td>Guitar Lessons - String Bending And Vibrato Es...</td>\n",
       "      <td>https://www.udemy.com/guitar-lessons-string-be...</td>\n",
       "      <td>0</td>\n",
       "      <td>3325</td>\n",
       "      <td>28</td>\n",
       "      <td>5</td>\n",
       "      <td>All Levels</td>\n",
       "      <td>0.14</td>\n",
       "      <td>1.000000</td>\n",
       "      <td>2016-02-15T17:04:24Z</td>\n",
       "      <td>Musical Instruments</td>\n",
       "    </tr>\n",
       "    <tr>\n",
       "      <th>648506</th>\n",
       "      <td>Blues Guitar Fundamentals</td>\n",
       "      <td>https://www.udemy.com/blues-guitar/</td>\n",
       "      <td>50</td>\n",
       "      <td>3312</td>\n",
       "      <td>107</td>\n",
       "      <td>21</td>\n",
       "      <td>Beginner Level</td>\n",
       "      <td>0.14</td>\n",
       "      <td>1.500000</td>\n",
       "      <td>2016-06-27T23:12:31Z</td>\n",
       "      <td>Musical Instruments</td>\n",
       "    </tr>\n",
       "    <tr>\n",
       "      <th>666322</th>\n",
       "      <td>Learn to Play Piano From a Concert Pianist - F...</td>\n",
       "      <td>https://www.udemy.com/learn-to-play-piano-from...</td>\n",
       "      <td>200</td>\n",
       "      <td>3206</td>\n",
       "      <td>18</td>\n",
       "      <td>17</td>\n",
       "      <td>Intermediate Level</td>\n",
       "      <td>0.11</td>\n",
       "      <td>1.000000</td>\n",
       "      <td>2015-11-22T18:38:28Z</td>\n",
       "      <td>Musical Instruments</td>\n",
       "    </tr>\n",
       "    <tr>\n",
       "      <th>198660</th>\n",
       "      <td>Tenor Banjo for Absolute Beginners</td>\n",
       "      <td>https://www.udemy.com/tenor-banjo-for-absolute...</td>\n",
       "      <td>0</td>\n",
       "      <td>3167</td>\n",
       "      <td>161</td>\n",
       "      <td>34</td>\n",
       "      <td>Beginner Level</td>\n",
       "      <td>0.11</td>\n",
       "      <td>0.616667</td>\n",
       "      <td>2014-07-19T10:32:00Z</td>\n",
       "      <td>Musical Instruments</td>\n",
       "    </tr>\n",
       "    <tr>\n",
       "      <th>385684</th>\n",
       "      <td>Guitar Kick Start</td>\n",
       "      <td>https://www.udemy.com/guitar-kick-start/</td>\n",
       "      <td>0</td>\n",
       "      <td>3160</td>\n",
       "      <td>47</td>\n",
       "      <td>22</td>\n",
       "      <td>All Levels</td>\n",
       "      <td>0.11</td>\n",
       "      <td>1.000000</td>\n",
       "      <td>2015-03-19T21:16:32Z</td>\n",
       "      <td>Musical Instruments</td>\n",
       "    </tr>\n",
       "    <tr>\n",
       "      <th>1029440</th>\n",
       "      <td>Modern Rock Guitar Techniques</td>\n",
       "      <td>https://www.udemy.com/modern-rock-guitar-techn...</td>\n",
       "      <td>50</td>\n",
       "      <td>3157</td>\n",
       "      <td>375</td>\n",
       "      <td>32</td>\n",
       "      <td>Beginner Level</td>\n",
       "      <td>0.11</td>\n",
       "      <td>3.000000</td>\n",
       "      <td>2016-12-08T16:21:16Z</td>\n",
       "      <td>Musical Instruments</td>\n",
       "    </tr>\n",
       "    <tr>\n",
       "      <th>1098994</th>\n",
       "      <td>Fun Ukulele Strumming Course</td>\n",
       "      <td>https://www.udemy.com/fun-ukulele-strumming-co...</td>\n",
       "      <td>45</td>\n",
       "      <td>3141</td>\n",
       "      <td>10</td>\n",
       "      <td>15</td>\n",
       "      <td>Beginner Level</td>\n",
       "      <td>0.11</td>\n",
       "      <td>1.000000</td>\n",
       "      <td>2017-02-02T18:41:15Z</td>\n",
       "      <td>Musical Instruments</td>\n",
       "    </tr>\n",
       "    <tr>\n",
       "      <th>288942</th>\n",
       "      <td>#1 Piano Hand Coordination: Play 10th Ballad i...</td>\n",
       "      <td>https://www.udemy.com/magic-of-eb-key-12-piano...</td>\n",
       "      <td>35</td>\n",
       "      <td>3137</td>\n",
       "      <td>18</td>\n",
       "      <td>68</td>\n",
       "      <td>Beginner Level</td>\n",
       "      <td>0.11</td>\n",
       "      <td>1.500000</td>\n",
       "      <td>2014-09-18T05:07:05Z</td>\n",
       "      <td>Musical Instruments</td>\n",
       "    </tr>\n",
       "    <tr>\n",
       "      <th>105350</th>\n",
       "      <td>Play Piano Today - Easy Festive Favorites &amp; Pi...</td>\n",
       "      <td>https://www.udemy.com/easy-piano-today-play-fe...</td>\n",
       "      <td>75</td>\n",
       "      <td>3122</td>\n",
       "      <td>6</td>\n",
       "      <td>80</td>\n",
       "      <td>Beginner Level</td>\n",
       "      <td>0.11</td>\n",
       "      <td>4.000000</td>\n",
       "      <td>2013-10-27T15:18:29Z</td>\n",
       "      <td>Musical Instruments</td>\n",
       "    </tr>\n",
       "  </tbody>\n",
       "</table>\n",
       "</div>"
      ],
      "text/plain": [
       "                                                course_title  \\\n",
       "course_id                                                      \n",
       "19421                  Free Beginner Electric Guitar Lessons   \n",
       "238934     Pianoforall - Incredible New Way To Learn Pian...   \n",
       "41884                    Getting Started with Playing Guitar   \n",
       "42271          Complete Guitar System - Beginner to Advanced   \n",
       "26956                                Learn Guitar in 21 Days   \n",
       "456284                   The Professional Guitar Masterclass   \n",
       "583752                 Introduction to Piano - By PGN Piano!   \n",
       "59922              Best Beginner Guitar Lessons by Sam Lyons   \n",
       "198690                                Acoustic Guitar Basics   \n",
       "484670                           Guitar Super System Level 1   \n",
       "953152     The Complete Piano & Music Theory Beginners Co...   \n",
       "1191750                   Jazz Guitar Tips, Tricks and Licks   \n",
       "645202                    The Total Beginner's Guitar Course   \n",
       "200598     LEARN HARMONICA, amaze your friends and have f...   \n",
       "101496     How To Play Blues Guitar - Broonzy & McGhee Bl...   \n",
       "99324                          Acoustic Blues Guitar Lessons   \n",
       "1132342                 Ultimate Beginner Guitar Masterclass   \n",
       "194692     Quicklessons Piano Course - Learn to Play Pian...   \n",
       "76524      A new approach to piano and playing songs for ...   \n",
       "409818                   Get started playing blues harmonica   \n",
       "517148     Acoustic Fingerstyle Guitar Course: Beginner t...   \n",
       "824044     PI-101 Top 10 Classical Piano Pieces for Begin...   \n",
       "1052180    How to play 'Electric Guitar\",https://www.udem...   \n",
       "65033       Virtual Piano Lessons - A New Way To Learn Piano   \n",
       "315576         Guitar Crash Course (No Experience Necessary)   \n",
       "364716     Beginner Violin 101: Care, Maintenance, and th...   \n",
       "967380     How to play Piano - Go from a Beginner/Interme...   \n",
       "1032864    Learn to Read & Write Music to play Piano & mo...   \n",
       "555340           Play Piano in 30 Days! - Start Playing NOW!   \n",
       "574974          The Complete Piano Course - Master The Piano   \n",
       "1105794         Piano Music Theory (Back To Basics) by JFilt   \n",
       "1229488      Learn to play your favorite guitar songs by ear   \n",
       "566678           Learn 4 Chords and Play Thousands of Songs!   \n",
       "501412                  Play Piano by Ear Today! SuperCourse   \n",
       "696630     7 Ways A Beginner Guitarist Can Sound Better, ...   \n",
       "286070           5 lecciones que todo guitarrista debe tomar   \n",
       "681692                           Guitar Super System Level 2   \n",
       "206088     Guitar Chord Mastery!Turn Your Brain Into A Ch...   \n",
       "687248              3 step formula for playing guitar by ear   \n",
       "955914     A beginner`s guide to fingerpicking and strumm...   \n",
       "658276     Piano for Singer/Songwriters | Write Songs and...   \n",
       "762374     Guitar Lessons - String Bending And Vibrato Es...   \n",
       "648506                             Blues Guitar Fundamentals   \n",
       "666322     Learn to Play Piano From a Concert Pianist - F...   \n",
       "198660                    Tenor Banjo for Absolute Beginners   \n",
       "385684                                     Guitar Kick Start   \n",
       "1029440                        Modern Rock Guitar Techniques   \n",
       "1098994                         Fun Ukulele Strumming Course   \n",
       "288942     #1 Piano Hand Coordination: Play 10th Ballad i...   \n",
       "105350     Play Piano Today - Easy Festive Favorites & Pi...   \n",
       "\n",
       "                                                         url  price  \\\n",
       "course_id                                                             \n",
       "19421      https://www.udemy.com/beginner-electric-guitar...      0   \n",
       "238934     https://www.udemy.com/pianoforall-incredible-n...    200   \n",
       "41884      https://www.udemy.com/getting-started-with-pla...      0   \n",
       "42271      https://www.udemy.com/complete-guitar-system-b...    145   \n",
       "26956         https://www.udemy.com/learn-guitar-in-21-days/     20   \n",
       "456284     https://www.udemy.com/the-professional-guitar-...    200   \n",
       "583752            https://www.udemy.com/introductiontopiano/      0   \n",
       "59922      https://www.udemy.com/best-beginner-guitar-les...     20   \n",
       "198690         https://www.udemy.com/acoustic-guitar-basics/      0   \n",
       "484670     https://www.udemy.com/guitar-super-system-leve...     50   \n",
       "953152     https://www.udemy.com/piano-lessons-music-theo...     50   \n",
       "1191750    https://www.udemy.com/jazz-guitar-tips-tricks-...      0   \n",
       "645202     https://www.udemy.com/total-beginner-guitar-le...      0   \n",
       "200598     https://www.udemy.com/benhewlettharmonicatuiti...    200   \n",
       "101496     https://www.udemy.com/swing-acoustic-blues-gui...      0   \n",
       "99324      https://www.udemy.com/finger-picking-blues-gui...      0   \n",
       "1132342    https://www.udemy.com/beginner-guitar-mastercl...    200   \n",
       "194692                   https://www.udemy.com/quicklessons/    200   \n",
       "76524              https://www.udemy.com/contemporary-piano/     50   \n",
       "409818     https://www.udemy.com/get-started-playing-blue...      0   \n",
       "517148     https://www.udemy.com/acoustic-fingerstyle-gui...    200   \n",
       "824044                   https://www.udemy.com/pi-101-piano/      0   \n",
       "1052180               https://www.udemy.com/learnpianotoday/    100   \n",
       "65033      https://www.udemy.com/virtual-piano-lessons-a-...     50   \n",
       "315576        https://www.udemy.com/hub-guitar-crash-course/      0   \n",
       "364716     https://www.udemy.com/beginner-violin-101-care...      0   \n",
       "967380     https://www.udemy.com/how-to-play-piano-go-fro...    200   \n",
       "1032864    https://www.udemy.com/the-complete-guide-to-ho...    115   \n",
       "555340                    https://www.udemy.com/flyingstart/      0   \n",
       "574974      https://www.udemy.com/the-complete-piano-course/     95   \n",
       "1105794    https://www.udemy.com/piano-music-theory-back-...      0   \n",
       "1229488                   https://www.udemy.com/play-by-ear/     50   \n",
       "566678     https://www.udemy.com/learn-4-chords-and-play-...     20   \n",
       "501412     https://www.udemy.com/play-piano-by-ear-today-...     60   \n",
       "696630          https://www.udemy.com/nationalguitaracademy/      0   \n",
       "286070     https://www.udemy.com/5-lecciones-que-todo-gui...      0   \n",
       "681692        https://www.udemy.com/guitarsupersystemlevel2/     50   \n",
       "206088        https://www.udemy.com/total-fretboard-mastery/    200   \n",
       "687248     https://www.udemy.com/3-step-formula-for-playi...     25   \n",
       "955914     https://www.udemy.com/guitar-domination-finger...      0   \n",
       "658276      https://www.udemy.com/pianoforsingersongwriters/    100   \n",
       "762374     https://www.udemy.com/guitar-lessons-string-be...      0   \n",
       "648506                   https://www.udemy.com/blues-guitar/     50   \n",
       "666322     https://www.udemy.com/learn-to-play-piano-from...    200   \n",
       "198660     https://www.udemy.com/tenor-banjo-for-absolute...      0   \n",
       "385684              https://www.udemy.com/guitar-kick-start/      0   \n",
       "1029440    https://www.udemy.com/modern-rock-guitar-techn...     50   \n",
       "1098994    https://www.udemy.com/fun-ukulele-strumming-co...     45   \n",
       "288942     https://www.udemy.com/magic-of-eb-key-12-piano...     35   \n",
       "105350     https://www.udemy.com/easy-piano-today-play-fe...     75   \n",
       "\n",
       "           num_subscribers  num_reviews  num_lectures               level  \\\n",
       "course_id                                                                   \n",
       "19421               101154         1042            95          All Levels   \n",
       "238934               75499         7676           362      Beginner Level   \n",
       "41884                47652         1141            26          All Levels   \n",
       "42271                32935         2713           310          All Levels   \n",
       "26956                26504          192            82          All Levels   \n",
       "456284               21701         1340           136          All Levels   \n",
       "583752               14922          772             8          All Levels   \n",
       "59922                14560           20            32          All Levels   \n",
       "198690               14495          224            21      Beginner Level   \n",
       "484670               10869         2257           104  Intermediate Level   \n",
       "953152               10435          665            23        Expert Level   \n",
       "1191750               9351          331            21  Intermediate Level   \n",
       "645202                9193          357            17  Intermediate Level   \n",
       "200598                8857          718           131      Beginner Level   \n",
       "101496                8240           31             6          All Levels   \n",
       "99324                 8217          109            10      Beginner Level   \n",
       "1132342               8113           79           124          All Levels   \n",
       "194692                7178          260           144  Intermediate Level   \n",
       "76524                 7140           72            26          All Levels   \n",
       "409818                6853          398            23  Intermediate Level   \n",
       "517148                6565           55            56          All Levels   \n",
       "824044                6292          183            38      Beginner Level   \n",
       "1052180               6271           68            75          All Levels   \n",
       "65033                 5830           29            12      Beginner Level   \n",
       "315576                5769           78            29  Intermediate Level   \n",
       "364716                5543          107            29      Beginner Level   \n",
       "967380                5316          159           291          All Levels   \n",
       "1032864               5292           38            85      Beginner Level   \n",
       "555340                5188          410            58          All Levels   \n",
       "574974                4982          276           240          All Levels   \n",
       "1105794               4967          308            12      Beginner Level   \n",
       "1229488               4733           11            15      Beginner Level   \n",
       "566678                4560          177            22          All Levels   \n",
       "501412                4557           21            77          All Levels   \n",
       "696630                4529          193             7          All Levels   \n",
       "286070                4452          263            14          All Levels   \n",
       "681692                4192          128            34          All Levels   \n",
       "206088                4133          173           224          All Levels   \n",
       "687248                3937           54            20      Beginner Level   \n",
       "955914                3481           29            20          All Levels   \n",
       "658276                3371          175            42      Beginner Level   \n",
       "762374                3325           28             5          All Levels   \n",
       "648506                3312          107            21      Beginner Level   \n",
       "666322                3206           18            17  Intermediate Level   \n",
       "198660                3167          161            34      Beginner Level   \n",
       "385684                3160           47            22          All Levels   \n",
       "1029440               3157          375            32      Beginner Level   \n",
       "1098994               3141           10            15      Beginner Level   \n",
       "288942                3137           18            68      Beginner Level   \n",
       "105350                3122            6            80      Beginner Level   \n",
       "\n",
       "           Rating  content_duration   published_timestamp              subject  \n",
       "course_id                                                                       \n",
       "19421        0.88          4.500000  2012-06-15T17:00:33Z  Musical Instruments  \n",
       "238934       0.96         30.000000  2014-08-07T06:27:51Z  Musical Instruments  \n",
       "41884        0.68          4.000000  2013-05-29T15:28:07Z  Musical Instruments  \n",
       "42271        0.65         34.000000  2013-05-29T15:24:47Z  Musical Instruments  \n",
       "26956        0.41          2.500000  2012-10-21T20:36:50Z  Musical Instruments  \n",
       "456284       0.30          9.500000  2015-04-28T17:27:26Z  Musical Instruments  \n",
       "583752       0.30          0.666667  2015-08-16T20:38:49Z  Musical Instruments  \n",
       "59922        0.30          2.000000  2013-06-16T17:54:10Z  Musical Instruments  \n",
       "198690       0.47          2.000000  2014-08-07T20:32:27Z  Musical Instruments  \n",
       "484670       0.94          5.000000  2015-04-29T23:49:34Z  Musical Instruments  \n",
       "953152       0.12          1.500000  2016-09-15T22:49:21Z  Musical Instruments  \n",
       "1191750      0.18          2.000000  2017-05-01T02:32:12Z  Musical Instruments  \n",
       "645202       0.18          1.500000  2016-03-24T15:04:30Z  Musical Instruments  \n",
       "200598       0.43         15.500000  2014-04-27T16:25:44Z  Musical Instruments  \n",
       "101496       0.52          1.500000  2013-11-23T12:27:56Z  Musical Instruments  \n",
       "99324        0.30          1.000000  2013-09-30T20:45:20Z  Musical Instruments  \n",
       "1132342      0.18         11.500000  2017-05-15T23:04:11Z  Musical Instruments  \n",
       "194692       0.15          8.500000  2014-04-12T17:29:32Z  Musical Instruments  \n",
       "76524        0.18          1.500000  2013-08-11T20:39:24Z  Musical Instruments  \n",
       "409818       0.99          0.616667  2015-03-30T22:01:08Z  Musical Instruments  \n",
       "517148       0.11          4.000000  2015-08-04T17:40:13Z  Musical Instruments  \n",
       "824044       0.96          1.000000  2016-05-30T21:02:20Z  Musical Instruments  \n",
       "1052180      0.14          5.000000  2013-06-27T21:55:17Z  Musical Instruments  \n",
       "65033        0.14          1.000000  2013-07-21T23:31:31Z  Musical Instruments  \n",
       "315576       0.14          1.000000  2015-01-22T03:23:59Z  Musical Instruments  \n",
       "364716       0.14          4.000000  2015-03-03T00:09:19Z  Musical Instruments  \n",
       "967380       0.14         31.000000  2016-10-16T18:25:57Z  Musical Instruments  \n",
       "1032864      0.14         10.500000  2016-12-27T19:52:54Z  Musical Instruments  \n",
       "555340       0.14          3.000000  2015-07-26T18:08:47Z  Musical Instruments  \n",
       "574974       0.14         23.000000  2015-08-20T21:25:34Z  Musical Instruments  \n",
       "1105794      0.14          0.500000  2017-02-13T23:03:35Z  Musical Instruments  \n",
       "1229488      0.14          1.500000  2017-05-27T00:12:52Z  Musical Instruments  \n",
       "566678       0.14          1.500000  2015-08-17T19:01:04Z  Musical Instruments  \n",
       "501412       0.14          5.500000  2016-01-05T22:39:04Z  Musical Instruments  \n",
       "696630       0.14          0.600000  2015-12-21T18:50:50Z  Musical Instruments  \n",
       "286070       0.14          1.000000  2014-08-23T05:08:14Z  Musical Instruments  \n",
       "681692       0.14          1.500000  2015-11-30T21:49:37Z  Musical Instruments  \n",
       "206088       0.14         28.500000  2014-05-19T00:26:06Z  Musical Instruments  \n",
       "687248       0.14          1.500000  2015-12-03T21:26:09Z  Musical Instruments  \n",
       "955914       0.14          2.000000  2016-09-13T21:51:59Z  Musical Instruments  \n",
       "658276       0.14          3.000000  2015-11-12T01:10:55Z  Musical Instruments  \n",
       "762374       0.14          1.000000  2016-02-15T17:04:24Z  Musical Instruments  \n",
       "648506       0.14          1.500000  2016-06-27T23:12:31Z  Musical Instruments  \n",
       "666322       0.11          1.000000  2015-11-22T18:38:28Z  Musical Instruments  \n",
       "198660       0.11          0.616667  2014-07-19T10:32:00Z  Musical Instruments  \n",
       "385684       0.11          1.000000  2015-03-19T21:16:32Z  Musical Instruments  \n",
       "1029440      0.11          3.000000  2016-12-08T16:21:16Z  Musical Instruments  \n",
       "1098994      0.11          1.000000  2017-02-02T18:41:15Z  Musical Instruments  \n",
       "288942       0.11          1.500000  2014-09-18T05:07:05Z  Musical Instruments  \n",
       "105350       0.11          4.000000  2013-10-27T15:18:29Z  Musical Instruments  "
      ]
     },
     "execution_count": 176,
     "metadata": {},
     "output_type": "execute_result"
    }
   ],
   "source": [
    "data = pd.read_csv(filename, index_col='course_id')\n",
    "data.head(50)"
   ]
  },
  {
   "cell_type": "code",
   "execution_count": 111,
   "id": "3245e21a",
   "metadata": {},
   "outputs": [
    {
     "name": "stdout",
     "output_type": "stream",
     "text": [
      "course_id\n",
      "19421      Free Beginner Electric Guitar Lessons\n",
      "41884        Getting Started with Playing Guitar\n",
      "583752     Introduction to Piano - By PGN Piano!\n",
      "198690                    Acoustic Guitar Basics\n",
      "1191750       Jazz Guitar Tips, Tricks and Licks\n",
      "Name: course_title, dtype: object\n",
      "Cursos de graça:  46\n"
     ]
    }
   ],
   "source": [
    "dp0 = data.query('price == 0')\n",
    "print(dp0['course_title'].head())\n",
    "print(f'Cursos de graça: ', dp0['course_title'].count())"
   ]
  },
  {
   "cell_type": "code",
   "execution_count": 126,
   "id": "3daf0fa4",
   "metadata": {},
   "outputs": [
    {
     "data": {
      "image/png": "[encoded data removed]",
      "text/plain": [
       "<Figure size 640x480 with 1 Axes>"
      ]
     },
     "metadata": {},
     "output_type": "display_data"
    }
   ],
   "source": [
    "sn.lineplot(x=dp0.Rating.head(50),y=dp0.num_lectures.head(50))\n",
    "plt.xlabel('rating')\n",
    "plt.ylabel('num_lectures')\n",
    "plt.show()"
   ]
  },
  {
   "cell_type": "code",
   "execution_count": 127,
   "id": "dee98d8c",
   "metadata": {},
   "outputs": [
    {
     "data": {
      "image/png": "[encoded data removed]",
      "text/plain": [
       "<Figure size 640x480 with 1 Axes>"
      ]
     },
     "metadata": {},
     "output_type": "display_data"
    }
   ],
   "source": [
    "sn.lineplot(x=dp0.Rating.head(50),y=dp0.num_subscribers.head(50))\n",
    "plt.xlabel('rating')\n",
    "plt.ylabel('num_subscribers')\n",
    "plt.show()"
   ]
  },
  {
   "cell_type": "code",
   "execution_count": 129,
   "id": "56a0e937",
   "metadata": {},
   "outputs": [
    {
     "data": {
      "image/png": "[encoded data removed]",
      "text/plain": [
       "<Figure size 640x480 with 1 Axes>"
      ]
     },
     "metadata": {},
     "output_type": "display_data"
    }
   ],
   "source": [
    "sn.lineplot(y=dp0.Rating.head(50),x=dp0.level.head(50))\n",
    "plt.ylabel('rating')\n",
    "plt.xlabel('level')\n",
    "plt.show()"
   ]
  },
  {
   "cell_type": "code",
   "execution_count": 134,
   "id": "5857a109",
   "metadata": {},
   "outputs": [
    {
     "data": {
      "image/png": "[encoded data removed]",
      "text/plain": [
       "<Figure size 640x480 with 1 Axes>"
      ]
     },
     "metadata": {},
     "output_type": "display_data"
    }
   ],
   "source": [
    "sn.scatterplot(x=dp0.Rating.head(50),y=dp0.num_reviews.head(50))\n",
    "plt.xlabel('rating')\n",
    "plt.ylabel('num_reviews')\n",
    "plt.show()"
   ]
  },
  {
   "cell_type": "code",
   "execution_count": 148,
   "id": "68cb24f5",
   "metadata": {},
   "outputs": [
    {
     "name": "stdout",
     "output_type": "stream",
     "text": [
      "['All Levels' 'Beginner Level' 'Expert Level' 'Intermediate Level']\n"
     ]
    }
   ],
   "source": [
    "print(np.unique(data.level))"
   ]
  },
  {
   "cell_type": "code",
   "execution_count": 150,
   "id": "c74fd498",
   "metadata": {},
   "outputs": [
    {
     "name": "stdout",
     "output_type": "stream",
     "text": [
      "course_id\n",
      "19421             Free Beginner Electric Guitar Lessons\n",
      "41884               Getting Started with Playing Guitar\n",
      "42271     Complete Guitar System - Beginner to Advanced\n",
      "26956                           Learn Guitar in 21 Days\n",
      "456284              The Professional Guitar Masterclass\n",
      "Name: course_title, dtype: object\n",
      "Cursos de introdução:  324\n"
     ]
    }
   ],
   "source": [
    "dl0= data.query('level.str.contains(\"All Levels\")', engine=\"python\")\n",
    "print(dl0['course_title'].head())\n",
    "print(f'Cursos de introdução: ', dl0['course_title'].count())"
   ]
  },
  {
   "cell_type": "code",
   "execution_count": 143,
   "id": "8c415f21",
   "metadata": {},
   "outputs": [
    {
     "name": "stdout",
     "output_type": "stream",
     "text": [
      "course_id\n",
      "238934    Pianoforall - Incredible New Way To Learn Pian...\n",
      "198690                               Acoustic Guitar Basics\n",
      "200598    LEARN HARMONICA, amaze your friends and have f...\n",
      "99324                         Acoustic Blues Guitar Lessons\n",
      "824044    PI-101 Top 10 Classical Piano Pieces for Begin...\n",
      "Name: course_title, dtype: object\n",
      "Cursos de introdução:  266\n"
     ]
    }
   ],
   "source": [
    "dl1 = data.query('level.str.contains(\"Beginner Level\")', engine=\"python\")\n",
    "print(dl1['course_title'].head())\n",
    "print(f'Cursos de introdução: ', dl1['course_title'].count())\n",
    "#data['course_title'].str.startstwith('Introduction')"
   ]
  },
  {
   "cell_type": "code",
   "execution_count": 145,
   "id": "0f2d9cde",
   "metadata": {},
   "outputs": [
    {
     "name": "stdout",
     "output_type": "stream",
     "text": [
      "course_id\n",
      "484670                           Guitar Super System Level 1\n",
      "1191750                   Jazz Guitar Tips, Tricks and Licks\n",
      "645202                    The Total Beginner's Guitar Course\n",
      "194692     Quicklessons Piano Course - Learn to Play Pian...\n",
      "409818                   Get started playing blues harmonica\n",
      "Name: course_title, dtype: object\n",
      "Cursos de introdução:  78\n"
     ]
    }
   ],
   "source": [
    "dl2 = data.query('level.str.contains(\"Intermediate Level\")', engine=\"python\")\n",
    "print(dl2['course_title'].head())\n",
    "print(f'Cursos de introdução: ', dl2['course_title'].count())"
   ]
  },
  {
   "cell_type": "code",
   "execution_count": 149,
   "id": "3e859ec5",
   "metadata": {},
   "outputs": [
    {
     "name": "stdout",
     "output_type": "stream",
     "text": [
      "course_id\n",
      "953152     The Complete Piano & Music Theory Beginners Co...\n",
      "521072     Keyboard Instruments - Read Sheet Music for Pi...\n",
      "17922                                       Play Ukulele Now\n",
      "1132694                    Introduction to Gypsy Jazz Guitar\n",
      "21080                                      Guitar Essentials\n",
      "Name: course_title, dtype: object\n",
      "Cursos de introdução:  12\n"
     ]
    }
   ],
   "source": [
    "dl3 = data.query('level.str.contains(\"Expert Level\")', engine=\"python\")\n",
    "print(dl3['course_title'].head())\n",
    "print(f'Cursos de introdução: ', dl3['course_title'].count())"
   ]
  },
  {
   "cell_type": "code",
   "execution_count": 151,
   "id": "f1fc1913",
   "metadata": {},
   "outputs": [
    {
     "name": "stdout",
     "output_type": "stream",
     "text": [
      "[0.   0.01 0.02 0.03 0.04 0.05 0.06 0.07 0.08 0.09 0.1  0.11 0.12 0.13\n",
      " 0.14 0.15 0.16 0.17 0.18 0.19 0.2  0.22 0.23 0.24 0.25 0.26 0.27 0.28\n",
      " 0.29 0.3  0.31 0.32 0.33 0.34 0.35 0.36 0.37 0.38 0.39 0.4  0.41 0.43\n",
      " 0.44 0.45 0.46 0.47 0.48 0.49 0.51 0.52 0.53 0.54 0.55 0.56 0.57 0.58\n",
      " 0.6  0.61 0.62 0.63 0.65 0.66 0.67 0.68 0.69 0.71 0.72 0.73 0.74 0.75\n",
      " 0.76 0.77 0.78 0.79 0.8  0.81 0.83 0.84 0.85 0.86 0.88 0.89 0.9  0.91\n",
      " 0.92 0.93 0.94 0.95 0.96 0.97 0.99 1.  ]\n"
     ]
    }
   ],
   "source": [
    "print(np.unique(data.Rating))"
   ]
  },
  {
   "cell_type": "code",
   "execution_count": 248,
   "id": "b921c48f",
   "metadata": {},
   "outputs": [
    {
     "name": "stdout",
     "output_type": "stream",
     "text": [
      "0.3089117647058829\n"
     ]
    }
   ],
   "source": [
    "media_rat = data['Rating'].mean()\n",
    "print(media_rat)"
   ]
  },
  {
   "cell_type": "code",
   "execution_count": 158,
   "id": "b3e160be",
   "metadata": {},
   "outputs": [
    {
     "name": "stdout",
     "output_type": "stream",
     "text": [
      "                                                course_title  \\\n",
      "course_id                                                      \n",
      "1144288    Poldark TV series Soundtracks for Piano-Quickl...   \n",
      "838320     The Art of the Blues Shuffle - A Guitarist's G...   \n",
      "858064        Beginner Level Popular Piano Program - Month 1   \n",
      "387064                           Guitarra para principiantes   \n",
      "212520          Aprende a tocar ritmos latinos en el teclado   \n",
      "\n",
      "                        level  \n",
      "course_id                      \n",
      "1144288            All Levels  \n",
      "838320         Beginner Level  \n",
      "858064     Intermediate Level  \n",
      "387064             All Levels  \n",
      "212520             All Levels  \n",
      "Cursos com 0% de avaliação:  11\n"
     ]
    }
   ],
   "source": [
    "dr0 = data.query('Rating == 0')\n",
    "print(dr0[['course_title', 'level']].head())\n",
    "print(f'Cursos com 0% de avaliação: ', dr0['course_title'].count())"
   ]
  },
  {
   "cell_type": "code",
   "execution_count": 159,
   "id": "7e74b47b",
   "metadata": {},
   "outputs": [
    {
     "name": "stdout",
     "output_type": "stream",
     "text": [
      "                                                course_title  \\\n",
      "course_id                                                      \n",
      "953152     The Complete Piano & Music Theory Beginners Co...   \n",
      "1191750                   Jazz Guitar Tips, Tricks and Licks   \n",
      "645202                    The Total Beginner's Guitar Course   \n",
      "1132342                 Ultimate Beginner Guitar Masterclass   \n",
      "194692     Quicklessons Piano Course - Learn to Play Pian...   \n",
      "\n",
      "                        level  \n",
      "course_id                      \n",
      "953152           Expert Level  \n",
      "1191750    Intermediate Level  \n",
      "645202     Intermediate Level  \n",
      "1132342            All Levels  \n",
      "194692     Intermediate Level  \n",
      "Cursos com mais de 0% e menos de 25% de avaliação:  405\n"
     ]
    }
   ],
   "source": [
    "dr01 = data.query('Rating > 0 & Rating < 0.25')\n",
    "print(dr01[['course_title', 'level']].head())\n",
    "print(f'Cursos com mais de 0% e menos de 25% de avaliação: ', dr01['course_title'].count())"
   ]
  },
  {
   "cell_type": "code",
   "execution_count": 160,
   "id": "62c7141e",
   "metadata": {},
   "outputs": [
    {
     "name": "stdout",
     "output_type": "stream",
     "text": [
      "                                        course_title           level\n",
      "course_id                                                           \n",
      "26956                        Learn Guitar in 21 Days      All Levels\n",
      "456284           The Professional Guitar Masterclass      All Levels\n",
      "583752         Introduction to Piano - By PGN Piano!      All Levels\n",
      "59922      Best Beginner Guitar Lessons by Sam Lyons      All Levels\n",
      "198690                        Acoustic Guitar Basics  Beginner Level\n",
      "Cursos com mais de 25% e menos de 50% de avaliação:  89\n"
     ]
    }
   ],
   "source": [
    "dr25 = data.query('Rating >= 0.25 & Rating < 0.50')\n",
    "print(dr25[['course_title', 'level']].head())\n",
    "print(f'Cursos com mais de 25% e menos de 50% de avaliação: ', dr25['course_title'].count())"
   ]
  },
  {
   "cell_type": "code",
   "execution_count": 162,
   "id": "9ef313ca",
   "metadata": {},
   "outputs": [
    {
     "name": "stdout",
     "output_type": "stream",
     "text": [
      "                                                course_title           level\n",
      "course_id                                                                   \n",
      "41884                    Getting Started with Playing Guitar      All Levels\n",
      "42271          Complete Guitar System - Beginner to Advanced      All Levels\n",
      "101496     How To Play Blues Guitar - Broonzy & McGhee Bl...      All Levels\n",
      "1003568    Master Class # 11:  Play Piano Techniques Lear...  Beginner Level\n",
      "515256     Guitar - 12  Strumming Patterns You Must Know ...  Beginner Level\n",
      "Cursos com mais de 50% e menos de 75% de avaliação:  64\n"
     ]
    }
   ],
   "source": [
    "dr50 = data.query('Rating >= 0.50 & Rating < 0.75')\n",
    "print(dr50[['course_title', 'level']].head())\n",
    "print(f'Cursos com mais de 50% e menos de 75% de avaliação: ', dr50['course_title'].count())"
   ]
  },
  {
   "cell_type": "code",
   "execution_count": 167,
   "id": "62cf7437",
   "metadata": {},
   "outputs": [
    {
     "name": "stdout",
     "output_type": "stream",
     "text": [
      "                                                course_title  \\\n",
      "course_id                                                      \n",
      "19421                  Free Beginner Electric Guitar Lessons   \n",
      "238934     Pianoforall - Incredible New Way To Learn Pian...   \n",
      "484670                           Guitar Super System Level 1   \n",
      "409818                   Get started playing blues harmonica   \n",
      "824044     PI-101 Top 10 Classical Piano Pieces for Begin...   \n",
      "\n",
      "                        level  \n",
      "course_id                      \n",
      "19421              All Levels  \n",
      "238934         Beginner Level  \n",
      "484670     Intermediate Level  \n",
      "409818     Intermediate Level  \n",
      "824044         Beginner Level  \n",
      "Cursos com mais de 75% e menos de 100% de avaliação:  107\n"
     ]
    }
   ],
   "source": [
    "dr75 = data.query('Rating >= 0.75 & Rating < 1')\n",
    "print(dr75[['course_title', 'level']].head())\n",
    "print(f'Cursos com mais de 75% e menos de 100% de avaliação: ', dr75['course_title'].count())"
   ]
  },
  {
   "cell_type": "code",
   "execution_count": 164,
   "id": "01152295",
   "metadata": {},
   "outputs": [
    {
     "name": "stdout",
     "output_type": "stream",
     "text": [
      "                                                course_title       level\n",
      "course_id                                                               \n",
      "1120410    #5  Piano Hand Coordination:  Piano Runs in 2 ...  All Levels\n",
      "1105904           Learn How To Play 25 Classic Hip Hop Songs  All Levels\n",
      "939668     Learn 3 - All Time A R Rahman Hits on Carnatic...  All Levels\n",
      "219844                         Aprende a tocar el clarinete.  All Levels\n",
      "Cursos com 100% de avaliação:  4\n"
     ]
    }
   ],
   "source": [
    "dr100 = data.query('Rating == 1')\n",
    "print(dr100[['course_title', 'level']].head())\n",
    "print(f'Cursos com 100% de avaliação: ', dr100['course_title'].count())"
   ]
  },
  {
   "cell_type": "code",
   "execution_count": 238,
   "id": "7d9c02b3",
   "metadata": {},
   "outputs": [
    {
     "name": "stdout",
     "output_type": "stream",
     "text": [
      "680\n"
     ]
    }
   ],
   "source": [
    "dr0_count = dr0['Rating'].count()\n",
    "dr01_count = dr01['Rating'].count()\n",
    "dr25_count = dr25['Rating'].count()\n",
    "dr50_count = dr50['Rating'].count()\n",
    "dr75_count = dr75['Rating'].count()\n",
    "dr100_count = dr100['Rating'].count()\n",
    "print(dr0_count+dr01_count+dr25_count+dr50_count+dr75_count+dr100_count)"
   ]
  },
  {
   "cell_type": "markdown",
   "id": "e0fb968f",
   "metadata": {},
   "source": [
    "Gráfico de Barras com a contagem de cada período de notas (Rating)"
   ]
  },
  {
   "cell_type": "code",
   "execution_count": 242,
   "id": "a382ee18",
   "metadata": {},
   "outputs": [
    {
     "name": "stdout",
     "output_type": "stream",
     "text": [
      "dict_values([11, 405, 89, 64, 107, 4])\n",
      "dict_keys(['dr00', 'dr001', 'dr025', 'dr050', 'dr075', 'dr0100'])\n"
     ]
    },
    {
     "data": {
      "image/png": "[encoded data removed]",
      "text/plain": [
       "<Figure size 640x480 with 1 Axes>"
      ]
     },
     "metadata": {},
     "output_type": "display_data"
    }
   ],
   "source": [
    "#define data\n",
    "dict_s = {'dr00':dr0_count, 'dr001':dr01_count, 'dr025':dr25_count, 'dr050':dr50_count, \n",
    "          'dr075':dr75_count, 'dr0100':dr100_count}\n",
    "data_s = dict_s.values()\n",
    "#print(data_s)\n",
    "labels = dict_s.keys()\n",
    "#print(labels)\n",
    "#create bar chart\n",
    "plt.bar(dict_s.keys(), dict_s.values(), color='g')\n",
    "plt.show()"
   ]
  },
  {
   "cell_type": "markdown",
   "id": "b0aaf353",
   "metadata": {},
   "source": [
    "Gráfico de Pizza com a contagem de cada período de notas (Rating)"
   ]
  },
  {
   "cell_type": "code",
   "execution_count": 249,
   "id": "f1ad0bce",
   "metadata": {},
   "outputs": [
    {
     "name": "stdout",
     "output_type": "stream",
     "text": [
      "dict_values([11, 405, 89, 64, 107, 4])\n",
      "['0.0', '0.1-0.25', '0.26-0.50', '0.51-0.75', '0.76-1.0', '1.0']\n"
     ]
    },
    {
     "data": {
      "image/png": "[encoded data removed]",
      "text/plain": [
       "<Figure size 640x480 with 1 Axes>"
      ]
     },
     "metadata": {},
     "output_type": "display_data"
    }
   ],
   "source": [
    "dict_s = {'dr00':dr0_count, 'dr001':dr01_count, 'dr025':dr25_count, 'dr050':dr50_count, \n",
    "          'dr075':dr75_count, 'dr0100':dr100_count}\n",
    "#define data\n",
    "data_s = dict_s.values()\n",
    "print(data_s)\n",
    "labels = ['0.0', '0.1-0.25', '0.26-0.50', '0.51-0.75', '0.76-1.0', '1.0']\n",
    "print(labels)\n",
    "#create pie chart -- autopct='%.0f%%'\n",
    "plt.pie(x = data_s, labels = labels, autopct='%.0f%%')\n",
    "plt.show()"
   ]
  },
  {
   "cell_type": "markdown",
   "id": "389cba3e",
   "metadata": {},
   "source": [
    "Então aproximadamente 26% dos cursos tem nota acima de 0.51\n",
    "E aproximadamente 17% acima de 0.76"
   ]
  },
  {
   "cell_type": "code",
   "execution_count": 256,
   "id": "a2c186e3",
   "metadata": {},
   "outputs": [
    {
     "name": "stdout",
     "output_type": "stream",
     "text": [
      "                                                course_title  \\\n",
      "course_id                                                      \n",
      "41884                    Getting Started with Playing Guitar   \n",
      "42271          Complete Guitar System - Beginner to Advanced   \n",
      "101496     How To Play Blues Guitar - Broonzy & McGhee Bl...   \n",
      "1003568    Master Class # 11:  Play Piano Techniques Lear...   \n",
      "515256     Guitar - 12  Strumming Patterns You Must Know ...   \n",
      "...                                                      ...   \n",
      "1224186    Learn to Play Piano Like a Pro - Easy Piano Co...   \n",
      "1120410    #5  Piano Hand Coordination:  Piano Runs in 2 ...   \n",
      "1105904           Learn How To Play 25 Classic Hip Hop Songs   \n",
      "939668     Learn 3 - All Time A R Rahman Hits on Carnatic...   \n",
      "219844                         Aprende a tocar el clarinete.   \n",
      "\n",
      "                                                         url  price  \\\n",
      "course_id                                                             \n",
      "41884      https://www.udemy.com/getting-started-with-pla...      0   \n",
      "42271      https://www.udemy.com/complete-guitar-system-b...    145   \n",
      "101496     https://www.udemy.com/swing-acoustic-blues-gui...      0   \n",
      "1003568    https://www.udemy.com/learn-piano-11-play-pian...     95   \n",
      "515256     https://www.udemy.com/12-must-know-strumming-p...     50   \n",
      "...                                                      ...    ...   \n",
      "1224186    https://www.udemy.com/learn-to-play-piano-like...     35   \n",
      "1120410    https://www.udemy.com/learn-piano-technique-5-...     75   \n",
      "1105904    https://www.udemy.com/learn-how-to-play-25-cla...     25   \n",
      "939668                  https://www.udemy.com/arrahman-hits/     70   \n",
      "219844     https://www.udemy.com/aprende-a-tocar-el-clari...     50   \n",
      "\n",
      "           num_subscribers  num_reviews  num_lectures           level  Rating  \\\n",
      "course_id                                                                       \n",
      "41884                47652         1141            26      All Levels    0.68   \n",
      "42271                32935         2713           310      All Levels    0.65   \n",
      "101496                8240           31             6      All Levels    0.52   \n",
      "1003568               2164           10           113  Beginner Level    0.73   \n",
      "515256                2154           40            16  Beginner Level    0.69   \n",
      "...                    ...          ...           ...             ...     ...   \n",
      "1224186                  0            0            13  Beginner Level    0.78   \n",
      "1120410                940            3            32      All Levels    1.00   \n",
      "1105904                153            9            27      All Levels    1.00   \n",
      "939668                  98           18            31      All Levels    1.00   \n",
      "219844                   4            0            26      All Levels    1.00   \n",
      "\n",
      "           content_duration   published_timestamp              subject  \n",
      "course_id                                                               \n",
      "41884              4.000000  2013-05-29T15:28:07Z  Musical Instruments  \n",
      "42271             34.000000  2013-05-29T15:24:47Z  Musical Instruments  \n",
      "101496             1.500000  2013-11-23T12:27:56Z  Musical Instruments  \n",
      "1003568            2.000000  2016-11-07T14:54:19Z  Musical Instruments  \n",
      "515256             1.000000  2015-07-06T23:16:45Z  Musical Instruments  \n",
      "...                     ...                   ...                  ...  \n",
      "1224186            0.516667  2017-05-30T00:19:02Z  Musical Instruments  \n",
      "1120410            0.616667  2017-02-21T23:44:49Z  Musical Instruments  \n",
      "1105904            2.500000  2017-02-13T23:03:20Z  Musical Instruments  \n",
      "939668             2.500000  2016-12-13T22:38:05Z  Musical Instruments  \n",
      "219844             3.000000  2014-05-19T17:00:39Z  Musical Instruments  \n",
      "\n",
      "[175 rows x 11 columns]\n"
     ]
    }
   ],
   "source": [
    "acima_51 = pd.concat([dr50, dr75, dr100])\n",
    "print(acima_51)"
   ]
  },
  {
   "cell_type": "markdown",
   "id": "a7423774",
   "metadata": {},
   "source": [
    "O resultado acima mostra que são 175 cursos com nota acima de 0.50"
   ]
  },
  {
   "cell_type": "code",
   "execution_count": 260,
   "id": "d5d9adcf",
   "metadata": {},
   "outputs": [
    {
     "name": "stdout",
     "output_type": "stream",
     "text": [
      "['All Levels' 'Beginner Level' 'Expert Level' 'Intermediate Level']\n"
     ]
    }
   ],
   "source": [
    "print(np.unique(acima_51.level))"
   ]
  },
  {
   "cell_type": "code",
   "execution_count": 284,
   "id": "24276dc8",
   "metadata": {},
   "outputs": [
    {
     "name": "stdout",
     "output_type": "stream",
     "text": [
      "All Levels:  87\n",
      "Beginner Level:  68\n",
      "Intermediate Level:  17\n",
      "Expert Level:  3\n",
      "Total Levels:  175\n"
     ]
    }
   ],
   "source": [
    "alll_query = acima_51.query('level == \"All Levels\"')\n",
    "begin_query = acima_51.query('level == \"Beginner Level\"')\n",
    "interm_query = acima_51.query('level == \"Intermediate Level\"')\n",
    "exp_query = acima_51.query('level == \"Expert Level\"')\n",
    "\n",
    "alll = alll_query.count()['level']\n",
    "begin = begin_query.count()['level']\n",
    "interm = interm_query.count()['level']\n",
    "exp = exp_query.count()['level']\n",
    "totalL = alll + begin + interm + exp\n",
    "\n",
    "print(f'All Levels: ', alll)\n",
    "print(f'Beginner Level: ', begin)\n",
    "print(f'Intermediate Level: ', interm)\n",
    "print(f'Expert Level: ', exp)\n",
    "print(f'Total Levels: ', totalL)"
   ]
  },
  {
   "cell_type": "code",
   "execution_count": 285,
   "id": "ce0d7f99",
   "metadata": {},
   "outputs": [
    {
     "name": "stdout",
     "output_type": "stream",
     "text": [
      "dict_values([87, 68, 17, 3])\n",
      "['All Levels', 'Beginner Level', 'Intermediate Level', 'Expert Level']\n"
     ]
    },
    {
     "data": {
      "image/png": "[encoded data removed]",
      "text/plain": [
       "<Figure size 640x480 with 1 Axes>"
      ]
     },
     "metadata": {},
     "output_type": "display_data"
    }
   ],
   "source": [
    "dict_s = {'alll':alll, 'begin':begin, 'interm':interm, 'exp':exp}\n",
    "#define data\n",
    "data_s = dict_s.values()\n",
    "print(data_s)\n",
    "labels = ['All Levels', 'Beginner Level', 'Intermediate Level', 'Expert Level']\n",
    "print(labels)\n",
    "#create pie chart'\n",
    "plt.pie(x = data_s, labels = labels, autopct='%f%%')\n",
    "plt.show()"
   ]
  },
  {
   "cell_type": "markdown",
   "id": "a9e97551",
   "metadata": {},
   "source": [
    "O resultado acima mostra que dos 175 cursos com nota acima de 0.50\n",
    "87 são All Levels ----------- aproximadamente 50% do total\n",
    "68 são Beginner Level ------- aproximadamente 38% do total\n",
    "17 são Intermediate Level --- aproximadamente 10% do total\n",
    "3 são Expert Level ---------- aproximadamente  2% do total\n",
    "\n",
    "Ou seja, dentre os cursos com nota acima de 0.50, 50% são indicados como All Levels"
   ]
  },
  {
   "cell_type": "code",
   "execution_count": 291,
   "id": "79473809",
   "metadata": {},
   "outputs": [
    {
     "name": "stdout",
     "output_type": "stream",
     "text": [
      "[  4   5   6   7   8   9  10  11  12  13  14  15  16  17  18  19  20  21\n",
      "  22  23  24  25  26  27  28  29  30  31  32  33  34  35  36  37  38  39\n",
      "  40  42  43  46  47  48  51  52  53  55  56  59  62  63  70  71  74  77\n",
      "  78  82  83  86  88  90  95  99 104 106 110 113 123 145 161 309 310 362]\n"
     ]
    }
   ],
   "source": [
    "print(np.unique(acima_51.num_lectures))"
   ]
  },
  {
   "cell_type": "code",
   "execution_count": 289,
   "id": "e0876db7",
   "metadata": {},
   "outputs": [
    {
     "data": {
      "image/png": "[encoded data removed]",
      "text/plain": [
       "<Figure size 640x480 with 1 Axes>"
      ]
     },
     "metadata": {},
     "output_type": "display_data"
    }
   ],
   "source": [
    "sn.lineplot(x=alll_query.Rating, y=alll_query.num_lectures)\n",
    "plt.xlabel('rating')\n",
    "plt.ylabel('num_lectures')\n",
    "plt.title('All Levels acima de 0.51')\n",
    "plt.show()"
   ]
  },
  {
   "cell_type": "code",
   "execution_count": 293,
   "id": "11c1fd01",
   "metadata": {},
   "outputs": [
    {
     "name": "stdout",
     "output_type": "stream",
     "text": [
      "[  0  20  25  30  35  40  45  50  55  60  65  70  75  80  95 100 115 125\n",
      " 130 145 150 195 200]\n"
     ]
    }
   ],
   "source": [
    "print(np.unique(acima_51.price))"
   ]
  },
  {
   "cell_type": "code",
   "execution_count": 294,
   "id": "ec0da577",
   "metadata": {},
   "outputs": [
    {
     "data": {
      "image/png": "[encoded data removed]",
      "text/plain": [
       "<Figure size 640x480 with 1 Axes>"
      ]
     },
     "metadata": {},
     "output_type": "display_data"
    }
   ],
   "source": [
    "sn.lineplot(x=alll_query.Rating, y=alll_query.price)\n",
    "plt.xlabel('rating')\n",
    "plt.ylabel('price')\n",
    "plt.title('All Levels acima de 0.51')\n",
    "plt.show()"
   ]
  }
 ],
 "metadata": {
  "kernelspec": {
   "display_name": "Python 3 (ipykernel)",
   "language": "python",
   "name": "python3"
  },
  "language_info": {
   "codemirror_mode": {
    "name": "ipython",
    "version": 3
   },
   "file_extension": ".py",
   "mimetype": "text/x-python",
   "name": "python",
   "nbconvert_exporter": "python",
   "pygments_lexer": "ipython3",
   "version": "3.9.13"
  }
 },
 "nbformat": 4,
 "nbformat_minor": 5
}
